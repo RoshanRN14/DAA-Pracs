{
 "cells": [
  {
   "cell_type": "code",
   "execution_count": 20,
   "metadata": {},
   "outputs": [
    {
     "name": "stdout",
     "output_type": "stream",
     "text": [
      "No. of comparisons =  21\n",
      "The sorted array is-  [2, 5, 12, 17, 23, 76, 78]\n"
     ]
    }
   ],
   "source": [
    "def bubble_sort(A):\n",
    "    count = 0 \n",
    "    for i in range(len(A)-1):\n",
    "        for j in range(len(A)-i-1):\n",
    "            count += 1 \n",
    "            if A[j] > A[j+1]:\n",
    "                A[j],A[j+1] = A[j+1],A[j]\n",
    "                flag = 1\n",
    "    print(\"No. of comparisons = \",count)\n",
    "    return A\n",
    "\n",
    "arr = [78, 2, 5, 23, 76, 12, 17]\n",
    "print(\"The sorted array is- \",bubble_sort(arr))"
   ]
  },
  {
   "cell_type": "code",
   "execution_count": 21,
   "metadata": {},
   "outputs": [
    {
     "name": "stdout",
     "output_type": "stream",
     "text": [
      "No. of comparisons =  21\n",
      "The sorted array is-  [2, 5, 12, 17, 23, 76, 78]\n"
     ]
    }
   ],
   "source": [
    "def bubble_sort(A):\n",
    "    count = 0 \n",
    "    for i in range(len(A)-1):\n",
    "        for j in range(len(A)-i-1):\n",
    "            count += 1 \n",
    "            if A[j] > A[j+1]:\n",
    "                A[j],A[j+1] = A[j+1],A[j]\n",
    "                flag = 1\n",
    "    print(\"No. of comparisons = \",count)\n",
    "    return A\n",
    "\n",
    "arr = [78, 2, 5, 23, 76, 12, 17]\n",
    "print(\"The sorted array is- \",bubble_sort(arr))"
   ]
  },
  {
   "cell_type": "code",
   "execution_count": 22,
   "metadata": {},
   "outputs": [
    {
     "name": "stdout",
     "output_type": "stream",
     "text": [
      "No. of comparisons =  24\n",
      "The sorted array is-  [2, 5, 12, 17, 23, 76, 78]\n"
     ]
    }
   ],
   "source": [
    "def bubble_sort(A):\n",
    "    count = 0 \n",
    "    m = len(A) - 1\n",
    "    for i in range(len(A)-1):\n",
    "        for j in range(m):\n",
    "            count += 1 \n",
    "            if A[j] > A[j+1]:\n",
    "                A[j],A[j+1] = A[j+1],A[j]\n",
    "                m = j \n",
    "    print(\"No. of comparisons = \",count)\n",
    "    return A\n",
    "\n",
    "arr = [78, 2, 5, 23, 76, 12, 17]\n",
    "print(\"The sorted array is- \",bubble_sort(arr))"
   ]
  },
  {
   "cell_type": "code",
   "execution_count": 15,
   "metadata": {},
   "outputs": [
    {
     "name": "stdout",
     "output_type": "stream",
     "text": [
      "Random Array: [50, 41, 9, 93, 68, 21, 42, 35, 92, 32, 57, 80, 87, 84, 83]\n",
      "Sorted Array: [9, 21, 32, 35, 41, 42, 50, 57, 68, 80, 83, 84, 87, 92, 93]\n"
     ]
    }
   ],
   "source": [
    "import random\n",
    "\n",
    "class TreeNode:\n",
    "    def __init__(self, key):\n",
    "        self.left = None\n",
    "        self.right = None\n",
    "        self.val = key\n",
    "\n",
    "def insert(root, key):\n",
    "    if root is None:\n",
    "        return TreeNode(key)\n",
    "    else:\n",
    "        if root.val < key:\n",
    "            root.right = insert(root.right, key)\n",
    "        else:\n",
    "            root.left = insert(root.left, key)\n",
    "    return root\n",
    "\n",
    "def inorder_traversal(root):\n",
    "    return inorder_traversal(root.left) + [root.val] + inorder_traversal(root.right) if root else []\n",
    "\n",
    "# Generate a random array of size 15\n",
    "random_array = random.sample(range(1, 101), 15)\n",
    "print(f\"Random Array: {random_array}\")\n",
    "\n",
    "# Construct BST\n",
    "root = None\n",
    "for num in random_array:\n",
    "    root = insert(root, num)\n",
    "\n",
    "# In-order traversal to get the sorted array\n",
    "sorted_array = inorder_traversal(root)\n",
    "print(f\"Sorted Array: {sorted_array}\")"
   ]
  },
  {
   "cell_type": "code",
   "execution_count": 2,
   "metadata": {},
   "outputs": [
    {
     "data": {
      "text/plain": [
       "[0, 1, 1, 2, 3, 5]"
      ]
     },
     "execution_count": 2,
     "metadata": {},
     "output_type": "execute_result"
    }
   ],
   "source": [
    "# Fibonacci with dynamic programming\n",
    "\n",
    "def fibonacci_dp(n):\n",
    "    if n <= 1:\n",
    "        return n\n",
    "    dp = [0] * (n+1)\n",
    "    dp[0] = 0\n",
    "    dp[1] = 1\n",
    "    for i in range(2, n+1):\n",
    "        dp[i] = dp[i-1] + dp[i-2]\n",
    "    return dp\n",
    "\n",
    "fibonacci_dp(5)"
   ]
  },
  {
   "cell_type": "code",
   "execution_count": 5,
   "metadata": {},
   "outputs": [
    {
     "name": "stdout",
     "output_type": "stream",
     "text": [
      "0 1 1 2 3 5 8 13 21 34 "
     ]
    }
   ],
   "source": [
    "# Using Divide and Conquer\n",
    "def fib(n):\n",
    "    if n==0:\n",
    "        return 0\n",
    "    if n==1:\n",
    "        return 1\n",
    "    return fib(n-1)+fib(n-2)\n",
    "\n",
    "for i in range(10):\n",
    "    print(fib(i),end=' ')"
   ]
  },
  {
   "cell_type": "code",
   "execution_count": 3,
   "metadata": {},
   "outputs": [
    {
     "name": "stdout",
     "output_type": "stream",
     "text": [
      "Sorted in Descending Order (Min-Heap): [78, 76, 23, 17, 12, 5, 2]\n"
     ]
    }
   ],
   "source": [
    "def min_heapify(arr, n, i):\n",
    "    smallest = i  \n",
    "    left = 2 * i + 1  \n",
    "    right = 2 * i + 2 \n",
    "\n",
    "   \n",
    "    if left < n and arr[left] < arr[smallest]:\n",
    "        smallest = left\n",
    "\n",
    "    if right < n and arr[right] < arr[smallest]:\n",
    "        smallest = right\n",
    "\n",
    "    if smallest != i:\n",
    "        arr[i], arr[smallest] = arr[smallest], arr[i]  \n",
    "        min_heapify(arr, n, smallest)\n",
    "\n",
    "\n",
    "def build_min_heap(arr, n):\n",
    "    \n",
    "    start_idx = n // 2 - 1\n",
    "    \n",
    "    # Perform reverse level order traversal from last non-leaf node and heapify each node\n",
    "    for i in range(start_idx, -1, -1):\n",
    "        min_heapify(arr, n, i)\n",
    "\n",
    "# Heap sort using Min-Heap for Ascending Order\n",
    "def heap_sort_descending(arr):\n",
    "    n = len(arr)\n",
    "\n",
    "    # Build a Min-Heap\n",
    "    build_min_heap(arr, n)\n",
    "\n",
    "    # Extract elements one by one\n",
    "    for i in range(n-1, 0, -1):\n",
    "        arr[0], arr[i] = arr[i], arr[0]\n",
    "        min_heapify(arr, i, 0)\n",
    "\n",
    "    return arr\n",
    "\n",
    "\n",
    "arr = [78, 2, 5, 23, 76, 12, 17]\n",
    "sorted_arr = heap_sort_descending(arr.copy())\n",
    "print(\"Sorted in Descending Order (Min-Heap):\", sorted_arr)"
   ]
  },
  {
   "cell_type": "code",
   "execution_count": 4,
   "metadata": {},
   "outputs": [
    {
     "name": "stdout",
     "output_type": "stream",
     "text": [
      "Sorted in Ascending Order (Max-Heap): [2, 5, 12, 17, 23, 76, 78]\n"
     ]
    }
   ],
   "source": [
    "def max_heapify(arr, n, i):\n",
    "    largest = i  # Initialize the largest as root\n",
    "    left = 2 * i + 1  # left child\n",
    "    right = 2 * i + 2  # right child\n",
    "\n",
    "    # If left child is larger than root\n",
    "    if left < n and arr[left] > arr[largest]:\n",
    "        largest = left\n",
    "\n",
    "    # If right child is larger than largest so far\n",
    "    if right < n and arr[right] > arr[largest]:\n",
    "        largest = right\n",
    "\n",
    "    # If largest is not root\n",
    "    if largest != i:\n",
    "        arr[i], arr[largest] = arr[largest], arr[i]  # swap\n",
    "\n",
    "        # Recursively heapify the affected sub-tree\n",
    "        max_heapify(arr, n, largest)\n",
    "\n",
    "# Function to build a Max-Heap\n",
    "def build_max_heap(arr, n):\n",
    "    # Index of the last non-leaf node\n",
    "    start_idx = n // 2 - 1\n",
    "\n",
    "    # Perform reverse level order traversal from last non-leaf node and heapify each node\n",
    "    for i in range(start_idx, -1, -1):\n",
    "        max_heapify(arr, n, i)\n",
    "\n",
    "# Heap sort using Max-Heap for Descending Order\n",
    "def heap_sort_ascending(arr):\n",
    "    n = len(arr)\n",
    "\n",
    "    # Build a Max-Heap\n",
    "    build_max_heap(arr, n)\n",
    "\n",
    "    # Extract elements one by one\n",
    "    for i in range(n-1, 0, -1):\n",
    "        arr[0], arr[i] = arr[i], arr[0]  # swap\n",
    "        max_heapify(arr, i, 0)\n",
    "\n",
    "    return arr\n",
    "\n",
    "# Example\n",
    "arr = [78, 2, 5, 23, 76, 12, 17]\n",
    "sorted_arr = heap_sort_ascending(arr.copy())\n",
    "print(\"Sorted in Ascending Order (Max-Heap):\", sorted_arr)"
   ]
  },
  {
   "cell_type": "code",
   "execution_count": 6,
   "metadata": {},
   "outputs": [
    {
     "name": "stdout",
     "output_type": "stream",
     "text": [
      "Maximum profit: 240.0\n"
     ]
    }
   ],
   "source": [
    "def fractional_knapsack(capacity, items):\n",
    "    # Sort items by profit-to-weight ratio\n",
    "    items = sorted(items, key=lambda x: x[1]/x[0], reverse=True)\n",
    "\n",
    "    total_value = 0\n",
    "    for weight, profit in items:\n",
    "        if capacity >= weight:\n",
    "            capacity -= weight\n",
    "            total_value += profit\n",
    "        else:\n",
    "            # Add the fraction of the remaining capacity\n",
    "            total_value += profit * (capacity / weight)\n",
    "            break\n",
    "\n",
    "    return total_value\n",
    "\n",
    "# Input: (Weight, Profit)\n",
    "items = [(10, 60), (20, 100), (30, 120)]\n",
    "capacity = 50\n",
    "print(\"Maximum profit:\", fractional_knapsack(capacity, items))"
   ]
  },
  {
   "attachments": {},
   "cell_type": "markdown",
   "metadata": {},
   "source": [
    "**Huffman Coding (Heap)**:\n",
    "\n",
    "- A min-heap is used in Huffman coding to efficiently access and remove the two nodes with the smallest frequencies repeatedly. The min-heap allows inserting and removing elements in 𝑂(log𝑛) time.\n",
    "- This is important because the frequencies of characters vary, and we need to merge the lowest-frequency nodes multiple times to build the tree.\n",
    "- A sorting algorithm alone would not allow dynamic insertion and efficient retrieval of minimum elements as easily as a heap does."
   ]
  },
  {
   "attachments": {},
   "cell_type": "markdown",
   "metadata": {},
   "source": [
    "**Knapsack Problem (Sorting)**:\n",
    "\n",
    "- The knapsack problem often involves sorting items by their value-to-weight ratio, especially in the fractional knapsack problem.\n",
    "- Sorting items in this way is a one-time operation, and once sorted, items are processed in order. Therefore, sorting is more suitable as it takes 𝑂(𝑛log𝑛) time, and no dynamic insertion or minimum extraction is needed.\n",
    "- After sorting, the items are picked according to the knapsack constraints without any need for rearranging elements, so a heap would be unnecessary overhead in this case."
   ]
  },
  {
   "cell_type": "code",
   "execution_count": null,
   "metadata": {},
   "outputs": [],
   "source": []
  },
  {
   "cell_type": "code",
   "execution_count": 8,
   "metadata": {},
   "outputs": [
    {
     "name": "stdout",
     "output_type": "stream",
     "text": [
      "Scheduled Jobs: ['J2', 'J4']; Maximum Profit: 18\n"
     ]
    }
   ],
   "source": [
    "def job_sequencing(jobs):\n",
    "    # Sort jobs based on profit in descending order\n",
    "    jobs = sorted(jobs, key=lambda x: x[2], reverse=True)\n",
    "\n",
    "    n = len(jobs)\n",
    "    max_deadline = max(job[1] for job in jobs)\n",
    "\n",
    "    # Create a result array to store the sequence of jobs\n",
    "    result = [None] * max_deadline\n",
    "    # Track which slots are filled\n",
    "    slot_filled = [False] * max_deadline\n",
    "\n",
    "    total_profit = 0\n",
    "\n",
    "    # Iterate over all jobs\n",
    "    for job in jobs:\n",
    "        job_id, deadline, profit = job\n",
    "        # Find a slot for the job, starting from the last possible slot\n",
    "        for j in range(min(deadline, max_deadline) - 1, -1, -1):\n",
    "            if not slot_filled[j]:  # If the slot is free\n",
    "                slot_filled[j] = True\n",
    "                result[j] = job_id\n",
    "                total_profit += profit\n",
    "                break\n",
    "\n",
    "    # Filter out None values and display the scheduled jobs\n",
    "    scheduled_jobs = [job_id for job_id in result if job_id is not None]\n",
    "\n",
    "    return scheduled_jobs, total_profit\n",
    "\n",
    "# Example input\n",
    "jobs = [\n",
    "    ('J1', 2, 6),\n",
    "    ('J2', 1, 8),\n",
    "    ('J3', 1, 5),\n",
    "    ('J4', 2, 10)\n",
    "]\n",
    "\n",
    "scheduled_jobs, max_profit = job_sequencing(jobs)\n",
    "print(f\"Scheduled Jobs: {scheduled_jobs}; Maximum Profit: {max_profit}\")"
   ]
  },
  {
   "attachments": {},
   "cell_type": "markdown",
   "metadata": {},
   "source": [
    "Implement Prim’s Algorithm using a Min Heap to find the minimum cost MST of any random graph"
   ]
  },
  {
   "cell_type": "code",
   "execution_count": 9,
   "metadata": {},
   "outputs": [
    {
     "name": "stdout",
     "output_type": "stream",
     "text": [
      "Minimum Spanning Tree Edges: [('B', 1), ('C', 2), ('D', 3)]; Total Cost: 6\n"
     ]
    }
   ],
   "source": [
    "import heapq\n",
    "\n",
    "def prims_algorithm(graph, start_vertex):\n",
    "    # Initialize min heap\n",
    "    min_heap = [(0, start_vertex)]\n",
    "    visited = set()\n",
    "    total_cost = 0\n",
    "    mst_edges = []\n",
    "\n",
    "    while min_heap:\n",
    "        # Get the edge with minimum weight\n",
    "        weight, current_vertex = heapq.heappop(min_heap)\n",
    "\n",
    "        # If the vertex is already visited, skip it\n",
    "        if current_vertex in visited:\n",
    "            continue\n",
    "\n",
    "        # Mark the vertex as visited\n",
    "        visited.add(current_vertex)\n",
    "        total_cost += weight\n",
    "\n",
    "        # If not the first vertex, add the edge to the MST\n",
    "        if weight != 0:\n",
    "            mst_edges.append((current_vertex, weight))\n",
    "\n",
    "        # Add all the neighbors of the current vertex to the heap\n",
    "        for neighbor, edge_weight in graph[current_vertex]:\n",
    "            if neighbor not in visited:\n",
    "                heapq.heappush(min_heap, (edge_weight, neighbor))\n",
    "\n",
    "    return mst_edges, total_cost\n",
    "\n",
    "# Example graph representation: adjacency list\n",
    "graph = {\n",
    "    'A': [('B', 1), ('C', 4)],\n",
    "    'B': [('A', 1), ('C', 2), ('D', 6)],\n",
    "    'C': [('A', 4), ('B', 2), ('D', 3)],\n",
    "    'D': [('B', 6), ('C', 3)]\n",
    "}\n",
    "\n",
    "# Run Prim's algorithm\n",
    "mst_edges, minimum_cost = prims_algorithm(graph, 'A')\n",
    "print(f\"Minimum Spanning Tree Edges: {mst_edges}; Total Cost: {minimum_cost}\")"
   ]
  },
  {
   "attachments": {},
   "cell_type": "markdown",
   "metadata": {},
   "source": [
    "Implement the BFS algorithm"
   ]
  },
  {
   "cell_type": "code",
   "execution_count": 10,
   "metadata": {},
   "outputs": [
    {
     "name": "stdout",
     "output_type": "stream",
     "text": [
      "['A', 'B', 'C', 'D', 'E', 'F']\n"
     ]
    }
   ],
   "source": [
    "from collections import deque\n",
    "\n",
    "def bfs(graph, start):\n",
    "    visited = set()  # To track visited nodes\n",
    "    queue = deque([start])  # Initialize the queue with the start node\n",
    "    bfs_order = []  # To store the BFS traversal order\n",
    "    \n",
    "    while queue:\n",
    "        vertex = queue.popleft()  # Dequeue a vertex\n",
    "        if vertex not in visited:\n",
    "            visited.add(vertex)  # Mark the vertex as visited\n",
    "            bfs_order.append(vertex)  # Process the current node\n",
    "            \n",
    "            # Enqueue all the unvisited adjacent nodes\n",
    "            for neighbor in graph[vertex]:\n",
    "                if neighbor not in visited:\n",
    "                    queue.append(neighbor)\n",
    "                    \n",
    "    return bfs_order\n",
    "\n",
    "# Example graph (adjacency list)\n",
    "graph = {\n",
    "    'A': ['B', 'C'],\n",
    "    'B': ['A', 'D', 'E'],\n",
    "    'C': ['A', 'F'],\n",
    "    'D': ['B'],\n",
    "    'E': ['B', 'F'],\n",
    "    'F': ['C', 'E']\n",
    "}\n",
    "\n",
    "# Run BFS starting from vertex 'A'\n",
    "print(bfs(graph, 'A'))"
   ]
  },
  {
   "attachments": {},
   "cell_type": "markdown",
   "metadata": {},
   "source": [
    "Modify your BFS algorithm to detect cycles in a given graph"
   ]
  },
  {
   "cell_type": "code",
   "execution_count": 11,
   "metadata": {},
   "outputs": [
    {
     "name": "stdout",
     "output_type": "stream",
     "text": [
      "True\n"
     ]
    }
   ],
   "source": [
    "from collections import deque\n",
    "\n",
    "def bfs_detect_cycle(graph, start):\n",
    "    visited = set()  # Track visited nodes\n",
    "    parent = {start: None}  # Keep track of the parent of each node\n",
    "    queue = deque([start])  # Initialize the queue\n",
    "    \n",
    "    while queue:\n",
    "        vertex = queue.popleft()\n",
    "        \n",
    "        for neighbor in graph[vertex]:\n",
    "            if neighbor not in visited:\n",
    "                visited.add(neighbor)\n",
    "                parent[neighbor] = vertex  # Set parent of neighbor\n",
    "                queue.append(neighbor)\n",
    "            elif parent[vertex] != neighbor:\n",
    "                # If an already visited node is found and it's not the parent, cycle detected\n",
    "                return True\n",
    "    \n",
    "    return False  # No cycle found\n",
    "\n",
    "# Example graph with a cycle\n",
    "graph_with_cycle = {\n",
    "    'A': ['B', 'C'],\n",
    "    'B': ['A', 'D', 'E'],\n",
    "    'C': ['A', 'F'],\n",
    "    'D': ['B'],\n",
    "    'E': ['B', 'F'],\n",
    "    'F': ['C', 'E']\n",
    "}\n",
    "\n",
    "\n",
    "\n",
    "# Run the modified BFS to detect cycle\n",
    "print(bfs_detect_cycle(graph_with_cycle, 'A'))"
   ]
  },
  {
   "attachments": {},
   "cell_type": "markdown",
   "metadata": {},
   "source": [
    "Implement Dijkstra’s algorithm to find out the Single-Source Shortest Paths.\n"
   ]
  },
  {
   "cell_type": "code",
   "execution_count": 12,
   "metadata": {},
   "outputs": [
    {
     "name": "stdout",
     "output_type": "stream",
     "text": [
      "Shortest distances: {'A': 0, 'B': 1, 'C': 3, 'D': 4}\n"
     ]
    }
   ],
   "source": [
    "import heapq\n",
    "\n",
    "def dijkstra(graph, start):\n",
    "    # Initialize the minimum distance table with infinity for all vertices\n",
    "    distances = {vertex: float('infinity') for vertex in graph}\n",
    "    distances[start] = 0  # Distance to the start vertex is zero\n",
    "    priority_queue = [(0, start)]  # Priority queue to store (distance, vertex)\n",
    "\n",
    "    while priority_queue:\n",
    "        current_distance, current_vertex = heapq.heappop(priority_queue)\n",
    "\n",
    "        # If a shorter path is already found, skip this one\n",
    "        if current_distance > distances[current_vertex]:\n",
    "            continue\n",
    "\n",
    "        # Explore neighbors\n",
    "        for neighbor, weight in graph[current_vertex].items():\n",
    "            distance = current_distance + weight\n",
    "\n",
    "            # Only consider this path if it's better\n",
    "            if distance < distances[neighbor]:\n",
    "                distances[neighbor] = distance\n",
    "                heapq.heappush(priority_queue, (distance, neighbor))\n",
    "\n",
    "    return distances\n",
    "\n",
    "# Example usage:\n",
    "# Graph is represented as an adjacency list where graph[u] = {v: weight}\n",
    "graph = {\n",
    "    'A': {'B': 1, 'C': 4},\n",
    "    'B': {'C': 2, 'D': 5},\n",
    "    'C': {'D': 1},\n",
    "    'D': {}\n",
    "}\n",
    "start_vertex = 'A'\n",
    "print(\"Shortest distances:\", dijkstra(graph, start_vertex))"
   ]
  },
  {
   "attachments": {},
   "cell_type": "markdown",
   "metadata": {},
   "source": [
    "Implement topological sorting using DFS"
   ]
  },
  {
   "cell_type": "code",
   "execution_count": 13,
   "metadata": {},
   "outputs": [
    {
     "name": "stdout",
     "output_type": "stream",
     "text": [
      "Topological Sort: ['A', 'C', 'B', 'D']\n"
     ]
    }
   ],
   "source": [
    "def topological_sort(graph):\n",
    "    visited = set()\n",
    "    topo_order = []\n",
    "\n",
    "    def dfs(vertex):\n",
    "        visited.add(vertex)\n",
    "        for neighbor in graph.get(vertex, []):\n",
    "            if neighbor not in visited:\n",
    "                dfs(neighbor)\n",
    "        topo_order.append(vertex)  # Add after visiting neighbors\n",
    "\n",
    "    for vertex in graph:\n",
    "        if vertex not in visited:\n",
    "            dfs(vertex)\n",
    "\n",
    "    return topo_order[::-1]  # Reverse to get correct topological order\n",
    "\n",
    "# Example usage:\n",
    "# Graph is represented as an adjacency list where graph[u] = [v1, v2, ...]\n",
    "graph = {\n",
    "    'A': ['B', 'C'],\n",
    "    'B': ['D'],\n",
    "    'C': ['D'],\n",
    "    'D': []\n",
    "}\n",
    "print(\"Topological Sort:\", topological_sort(graph))"
   ]
  },
  {
   "attachments": {},
   "cell_type": "markdown",
   "metadata": {},
   "source": [
    "Implement the Bellman-Ford algorithm."
   ]
  },
  {
   "cell_type": "code",
   "execution_count": 14,
   "metadata": {},
   "outputs": [
    {
     "name": "stdout",
     "output_type": "stream",
     "text": [
      "0 5 6 6 7\n"
     ]
    }
   ],
   "source": [
    "# Python program to find single source shortest path using\n",
    "# Bellman-Ford algorithm\n",
    "\n",
    "def bellmanFord(V, edges, src):\n",
    "    \n",
    "    # Initially distance from source to all other vertices \n",
    "    # is not known(Infinite).\n",
    "    dist = [100000000] * V\n",
    "    dist[src] = 0\n",
    "\n",
    "    # Relaxation of all the edges V times, not (V - 1) as we\n",
    "    # need one additional relaxation to detect negative cycle\n",
    "    for i in range(V):\n",
    "        for edge in edges:\n",
    "            u, v, wt = edge\n",
    "            if dist[u] != 100000000 and dist[u] + wt < dist[v]:\n",
    "                \n",
    "                # If this is the Vth relaxation, then there \n",
    "                # is a negative cycle\n",
    "                if i == V - 1:\n",
    "                    return [-1]\n",
    "                \n",
    "                # Update shortest distance to node v\n",
    "                dist[v] = dist[u] + wt\n",
    "    return dist\n",
    "\n",
    "if __name__ == '__main__':\n",
    "    V = 5\n",
    "    edges = [[1, 3, 2], [4, 3, -1], [2, 4, 1], [1, 2, 1], [0, 1, 5]]\n",
    "\n",
    "    src = 0\n",
    "    ans = bellmanFord(V, edges, src)\n",
    "    print(' '.join(map(str, ans)))\n"
   ]
  },
  {
   "attachments": {},
   "cell_type": "markdown",
   "metadata": {},
   "source": [
    "Implement the 0/1 Knapsack problem using dynamic programming with the following\n",
    "approaches:\n",
    "\n",
    "- Bottom-up approach\n",
    "- Top-down approach"
   ]
  },
  {
   "cell_type": "code",
   "execution_count": 31,
   "metadata": {},
   "outputs": [
    {
     "name": "stdout",
     "output_type": "stream",
     "text": [
      "\n",
      "Maximum value in Knapsack = 1200\n"
     ]
    }
   ],
   "source": [
    "def knapsack_tabulation(values, weights, capacity):\n",
    "    n = len(values)\n",
    "    tab = [[0] * (capacity + 1) for _ in range(n + 1)]\n",
    "\n",
    "    for i in range(1, n + 1):\n",
    "        for w in range(1, capacity + 1):\n",
    "            if weights[i - 1] <= w:\n",
    "                include_item = values[i - 1] + tab[i - 1][w - weights[i - 1]]\n",
    "                exclude_item = tab[i - 1][w]\n",
    "                tab[i][w] = max(include_item, exclude_item)\n",
    "            else:\n",
    "                tab[i][w] = tab[i - 1][w]\n",
    "\n",
    "    return tab[n][capacity]\n",
    "\n",
    "# Test data\n",
    "values = [300, 200, 400, 500]\n",
    "weights = [2, 1, 5, 3]\n",
    "capacity = 10\n",
    "\n",
    "print(\"\\nMaximum value in Knapsack =\", knapsack_tabulation(values, weights, capacity))\n"
   ]
  },
  {
   "cell_type": "code",
   "execution_count": 27,
   "metadata": {},
   "outputs": [
    {
     "name": "stdout",
     "output_type": "stream",
     "text": [
      "\n",
      "Maximum value in Knapsack = 1200\n"
     ]
    }
   ],
   "source": [
    "def knapsack_memoization(capacity, n):\n",
    "    #print(f\"knapsack_memoization({n}, {capacity})\")\n",
    "    if memo[n][capacity] is not None:\n",
    "        #print(f\"Using memo for ({n}, {capacity})\")\n",
    "        return memo[n][capacity]\n",
    "    \n",
    "    if n == 0 or capacity == 0:\n",
    "        result = 0\n",
    "    elif weights[n-1] > capacity:\n",
    "        result = knapsack_memoization(capacity, n-1)\n",
    "    else:\n",
    "        include_item = values[n-1] + knapsack_memoization(capacity-weights[n-1], n-1)\n",
    "        exclude_item = knapsack_memoization(capacity, n-1)\n",
    "        result = max(include_item, exclude_item)\n",
    "\n",
    "    memo[n][capacity] = result\n",
    "    return result\n",
    "\n",
    "values = [300, 200, 400, 500]\n",
    "weights = [2, 1, 5, 3]\n",
    "capacity = 10\n",
    "n = len(values)\n",
    "\n",
    "memo = [[None]*(capacity + 1) for _ in range(n + 1)]\n",
    "\n",
    "print(\"\\nMaximum value in Knapsack =\", knapsack_memoization(capacity, n))"
   ]
  }
 ],
 "metadata": {
  "kernelspec": {
   "display_name": "Python 3",
   "language": "python",
   "name": "python3"
  },
  "language_info": {
   "codemirror_mode": {
    "name": "ipython",
    "version": 3
   },
   "file_extension": ".py",
   "mimetype": "text/x-python",
   "name": "python",
   "nbconvert_exporter": "python",
   "pygments_lexer": "ipython3",
   "version": "3.11.2"
  },
  "orig_nbformat": 4
 },
 "nbformat": 4,
 "nbformat_minor": 2
}
