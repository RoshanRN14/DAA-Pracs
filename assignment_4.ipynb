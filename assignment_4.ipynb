{
 "cells": [
  {
   "cell_type": "markdown",
   "metadata": {},
   "source": [
    "### Bubble Sort"
   ]
  },
  {
   "cell_type": "code",
   "execution_count": 15,
   "metadata": {},
   "outputs": [
    {
     "name": "stdout",
     "output_type": "stream",
     "text": [
      "Sorted Array:  [2, 5, 12, 17, 23, 76, 78]\n",
      "Number of comparisons: 42\n"
     ]
    }
   ],
   "source": [
    "def bubble(arr):\n",
    "    n=len(arr)\n",
    "    comparisons=0\n",
    "    for i in range(n):\n",
    "        for j in range(n-1):\n",
    "            comparisons=comparisons+1\n",
    "            if arr[j]>arr[j+1]:\n",
    "                arr[j],arr[j+1]=arr[j+1],arr[j]\n",
    "    return arr,comparisons\n",
    "\n",
    "arr=[78,2,5,23,76,12,17]\n",
    "sorted_arr,comparisons=bubble(arr)\n",
    "\n",
    "print(\"Sorted Array: \",sorted_arr)\n",
    "print(f\"Number of comparisons: {comparisons}\")"
   ]
  },
  {
   "cell_type": "code",
   "execution_count": 14,
   "metadata": {},
   "outputs": [
    {
     "name": "stdout",
     "output_type": "stream",
     "text": [
      "Sorted Array:  [1, 2, 3, 4, 5, 6, 7, 99]\n",
      "Number of comparisons: 28\n"
     ]
    }
   ],
   "source": [
    "def Optbubble(arr):\n",
    "    n=len(arr)\n",
    "    comparisons=0\n",
    "    for i in range(n):\n",
    "        for j in range(n-i-1):\n",
    "            comparisons=comparisons+1\n",
    "            if arr[j]>arr[j+1]:\n",
    "                arr[j],arr[j+1]=arr[j+1],arr[j]\n",
    "    return arr,comparisons\n",
    "\n",
    "arr=[99,1,2,3,4,5,6,7]\n",
    "\n",
    "sorted_arr,comparisons=Optbubble(arr)\n",
    "\n",
    "print(\"Sorted Array: \",sorted_arr)\n",
    "print(f\"Number of comparisons: {comparisons}\")"
   ]
  },
  {
   "cell_type": "code",
   "execution_count": 38,
   "metadata": {},
   "outputs": [
    {
     "name": "stdout",
     "output_type": "stream",
     "text": [
      "Sorted Array:  [2, 5, 12, 17, 23, 76, 78]\n",
      "Number of comparisons: 18\n"
     ]
    }
   ],
   "source": [
    "def optimized_bubble(arr):\n",
    "    n=len(arr)\n",
    "    comparisons=0\n",
    "    for i in range(n):\n",
    "        swap=False\n",
    "        for j in range(n-i-1):\n",
    "            comparisons=comparisons+1\n",
    "            if arr[j]>arr[j+1]:\n",
    "                arr[j],arr[j+1]=arr[j+1],arr[j]\n",
    "                swap=True\n",
    "        if not swap:\n",
    "            break\n",
    "    return arr,comparisons\n",
    "\n",
    "arr=[78,2,5,23,76,12,17]\n",
    "\n",
    "sorted_arr,comparisons=optimized_bubble(arr)\n",
    "\n",
    "print(\"Sorted Array: \",sorted_arr)\n",
    "print(f\"Number of comparisons: {comparisons}\")"
   ]
  },
  {
   "cell_type": "code",
   "execution_count": 46,
   "metadata": {},
   "outputs": [
    {
     "name": "stdout",
     "output_type": "stream",
     "text": [
      "Sorted Array:  [2, 1, 3, 7, 8]\n",
      "Number of comparisons: 4\n"
     ]
    }
   ],
   "source": [
    "def optimizedBubble(arr):\n",
    "    n=len(arr)\n",
    "    comparisons=0\n",
    "    i=0\n",
    "    swap=True\n",
    "    while(swap):\n",
    "        swap=False\n",
    "        for j in range (n-1):\n",
    "            comparisons=comparisons+1\n",
    "            if arr[j]>arr[j+1]:\n",
    "                arr[j],arr[j+1]=arr[j+1],arr[j]\n",
    "                swap=True\n",
    "                n=j-1\n",
    "        \n",
    "    return arr,comparisons\n",
    "\n",
    "arr=[3,2,1,7,8]\n",
    "\n",
    "sorted_arr,comparisons=optimizedBubble(arr)\n",
    "\n",
    "print(\"Sorted Array: \",sorted_arr)\n",
    "print(f\"Number of comparisons: {comparisons}\")"
   ]
  },
  {
   "cell_type": "code",
   "execution_count": 47,
   "metadata": {},
   "outputs": [
    {
     "name": "stdout",
     "output_type": "stream",
     "text": [
      "Input Array:  [78, 2, 5, 23, 76, 12, 17]\n",
      "Sorted Array:  [2, 5, 12, 17, 23, 76, 78]\n",
      "comparisons by bubble:  42\n",
      "comparisons by Optbubble:  21\n",
      "comparisons by Optimize_bubble:  6\n",
      "comparisons by optimizedBubble:  6\n"
     ]
    }
   ],
   "source": [
    "arr=[78,2,5,23,76,12,17]\n",
    "print(\"Input Array: \",arr)\n",
    "sorted_bubble,comparisons_bubble=bubble(arr)\n",
    "sorted_opt,comparisons_opt=Optbubble(arr)\n",
    "sorted_arr,comparisons=optimized_bubble(arr)\n",
    "sorted_arr_last,comparisons_last=optimizedBubble(arr)\n",
    "\n",
    "print(\"Sorted Array: \",sorted_bubble)\n",
    "\n",
    "print(\"comparisons by bubble: \",comparisons_bubble)\n",
    "print(\"comparisons by Optbubble: \",comparisons_opt)\n",
    "print(\"comparisons by Optimize_bubble: \",comparisons)\n",
    "print(\"comparisons by optimizedBubble: \",comparisons_last)"
   ]
  },
  {
   "cell_type": "markdown",
   "metadata": {},
   "source": [
    "### Binary Search Tree"
   ]
  },
  {
   "cell_type": "code",
   "execution_count": 33,
   "metadata": {},
   "outputs": [
    {
     "name": "stdout",
     "output_type": "stream",
     "text": [
      "Random Array: [73, 37, 44, 47, 2]\n",
      "Sorted Array:  2 37 44 47 73 "
     ]
    }
   ],
   "source": [
    "import random\n",
    "\n",
    "class TreeNode:\n",
    "    def __init__(self, key):\n",
    "        self.left = None\n",
    "        self.right = None\n",
    "        self.val = key\n",
    "\n",
    "def insert(root, key):\n",
    "    if root is None:\n",
    "        return TreeNode(key)\n",
    "    else:\n",
    "        if root.val < key:\n",
    "            root.right = insert(root.right, key)\n",
    "        else:\n",
    "            root.left = insert(root.left, key)\n",
    "    return root\n",
    "\n",
    "def inorder_traversal(node):\n",
    "    if node is None:\n",
    "        return \n",
    "\n",
    "    inorder_traversal(node.left)\n",
    "    print(node.val, end=' ')\n",
    "    inorder_traversal(node.right)\n",
    "\n",
    "\n",
    "random_array = random.sample(range(1, 101), 5)\n",
    "print(f\"Random Array: {random_array}\")\n",
    "\n",
    "\n",
    "root = None\n",
    "for num in random_array:\n",
    "    root = insert(root, num)\n",
    "\n",
    "print(\"Sorted Array: \",end=' ')\n",
    "inorder_traversal(root)"
   ]
  },
  {
   "cell_type": "code",
   "execution_count": null,
   "metadata": {},
   "outputs": [],
   "source": []
  }
 ],
 "metadata": {
  "kernelspec": {
   "display_name": "Python 3",
   "language": "python",
   "name": "python3"
  },
  "language_info": {
   "codemirror_mode": {
    "name": "ipython",
    "version": 3
   },
   "file_extension": ".py",
   "mimetype": "text/x-python",
   "name": "python",
   "nbconvert_exporter": "python",
   "pygments_lexer": "ipython3",
   "version": "3.12.4"
  }
 },
 "nbformat": 4,
 "nbformat_minor": 2
}
